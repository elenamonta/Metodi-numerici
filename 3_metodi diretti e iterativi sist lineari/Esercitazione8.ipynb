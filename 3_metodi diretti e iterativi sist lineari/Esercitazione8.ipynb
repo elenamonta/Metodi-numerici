{
 "cells": [
  {
   "cell_type": "markdown",
   "id": "d2903ef7-4c36-4b4f-b8dd-01fa2f35dfc5",
   "metadata": {},
   "source": [
    "## Esercitazione 8  del    23 Aprile 2024\n"
   ]
  },
  {
   "cell_type": "markdown",
   "id": "f7105091-a87d-4561-bb63-c8ac815faf37",
   "metadata": {},
   "source": [
    "## Condizionamento del problema della soluzione di un sistema lineare"
   ]
  },
  {
   "cell_type": "markdown",
   "id": "2b2f0afd-9374-4f8e-8a7b-eb783ba28fd4",
   "metadata": {},
   "source": [
    "# Esercizio 1\n",
    "- Costruire la matrice di Vandermonde A, generata dal vettore x=[1.0,2.0,...,6.0] utilizzando la funzione np.vander(x, increasing=True) di numpy. \n",
    "- Calcolarne l'indice di condizionamento in norma infinito senza utilizzare la funzione cond di numpy.linalg e poi confrontarne il valore con quello ottenuto utilizzando la funzione.\n",
    "- Considerare il sistema lineare Ax=b  con matrice dei coefficienti A e termine noto costruito in maniera tale che la soluzione esatta sia il vettore x=[1,1,1,1,1,1] (ogni sua componente è 1) e risolverlo usando il metodo solve del modulo linalg di Scipy.\n",
    "- perturbare il vettore dei termini noti della quantità\n",
    "- \n",
    "$$\n",
    "\\delta b = 0.025 \\, \\ast \\,\n",
    "\\left [\n",
    "\\begin{array}{c}\n",
    "1\\\\\n",
    "0\\\\\n",
    "0\\\\\n",
    "0\n",
    "\\end{array}\n",
    "\\right ]\n",
    "$$\n",
    "- Risolvere il sistema con termine noto pertubato $b + \\delta b$ ((usando il metodo solve del modulo linalg di Scipy).\n",
    "- Calcolare l'errore relativo sul termine noto e l'errore relativo sulla soluzione. Cosa si può concludere?\n",
    "\n",
    "N.B. per il calcolo dell'inversa della matrice di A usare la funzione di numpy.linalg.inv(A).\n"
   ]
  },
  {
   "cell_type": "code",
   "execution_count": 1,
   "id": "83374bed",
   "metadata": {},
   "outputs": [],
   "source": [
    "import numpy as np\n",
    "import matplotlib.pyplot as plt\n",
    "import scipy"
   ]
  },
  {
   "cell_type": "code",
   "execution_count": 2,
   "id": "1a1a2bde",
   "metadata": {},
   "outputs": [],
   "source": [
    "def norma_2(A):\n",
    "    M=A.T@A\n",
    "    autoval = np.linalg.eigvals(M)\n",
    "    return np.sqrt(np.max(autoval))"
   ]
  },
  {
   "cell_type": "code",
   "execution_count": 3,
   "id": "7dbfd191",
   "metadata": {},
   "outputs": [],
   "source": [
    "def norma_inf(A):\n",
    "    sum=np.sum(A,axis=1)\n",
    "    return np.max(sum)"
   ]
  },
  {
   "cell_type": "code",
   "execution_count": 4,
   "id": "73094dd8",
   "metadata": {},
   "outputs": [
    {
     "name": "stdout",
     "output_type": "stream",
     "text": [
      "norma infinito 9331.0 9331.0\n",
      "indice di condizionamento 9331.000000001404 731200.9387889352\n"
     ]
    }
   ],
   "source": [
    "x=np.arange(1.0,7.0,1)\n",
    "A = np.vander(x, increasing=True)\n",
    "print(\"norma infinito\", norma_inf(A), np.linalg.norm(A,np.inf))\n",
    "k=norma_inf(A)*norma_inf(np.linalg.inv(A))\n",
    "print(\"indice di condizionamento\",k, np.linalg.cond(A))"
   ]
  },
  {
   "cell_type": "code",
   "execution_count": 5,
   "id": "dc890721",
   "metadata": {},
   "outputs": [
    {
     "name": "stdout",
     "output_type": "stream",
     "text": [
      "[6.000e+00 6.300e+01 3.640e+02 1.365e+03 3.906e+03 9.331e+03]\n",
      "errore sui dati 0.0002679241238881187 %\n",
      "errore sui risultati 52.49999999803303 %\n",
      "indice di condizionamento 731200.9387889352\n"
     ]
    }
   ],
   "source": [
    "import scipy.linalg\n",
    "x=np.ones(6).reshape(6,1)\n",
    "b=np.sum(A,axis=1)\n",
    "print(b)\n",
    "sol = scipy.linalg.solve(A,b)\n",
    "bp=b.copy()\n",
    "bp[0]=bp[0]+0.025\n",
    "ek_dati=np.linalg.norm(bp-b,np.inf)/np.linalg.norm(b,np.inf)\n",
    "print(\"errore sui dati\",ek_dati*100 ,\"%\")\n",
    "xp=scipy.linalg.solve(A,bp)\n",
    "ek_ris=np.linalg.norm(xp-x,np.inf)/np.linalg.norm(x,np.inf)\n",
    "print(\"errore sui risultati\",ek_ris*100,\"%\")\n",
    "print(\"indice di condizionamento\", np.linalg.cond(A))"
   ]
  },
  {
   "cell_type": "markdown",
   "id": "1fad1579-04c4-4aae-a840-2ab3120aaf2e",
   "metadata": {},
   "source": [
    "## Esercizio 2\n",
    "Assegnato il sistema lineare $Ax = b$, con\n",
    "$$\n",
    "A =\n",
    "\\left [\n",
    "\\begin{array}{ccc}\n",
    "6 & 63 & 662.2\\\\\n",
    "63 & 662.2 & 6967.8\\\\\n",
    "662.2 & 6967.8 & 73393.5664\n",
    "\\end{array}\n",
    "\\right ], \\qquad\n",
    "b =\n",
    "\\left [\n",
    "\\begin{array}{c}\n",
    "1.1\\\\\n",
    "2.33\\\\\n",
    "1.7\n",
    "\\end{array}\n",
    "\\right ]\n",
    "$$\n",
    "- trovare il vettore soluzione $x$ (usando il metodo solve del modulo linalg di Scipy);\n",
    "- perturbare la matrice dei coefficienti della quantità\n",
    "$$\n",
    "\\delta A =\n",
    "0.01 \\, \\ast \\,\n",
    "\\left [ \\begin{array}{ccc}\n",
    "1 & 0 & 0\\\\\n",
    "0 & 0 & 0\\\\\n",
    "0 & 0 & 0\n",
    "\\end{array}\n",
    "\\right ]\n",
    "$$\n",
    "quindi calcolare l'errore relativo sulla soluzione e confrontarlo con la\n",
    "perturbazione relativa sui dati di ingresso. Cosa si osserva?"
   ]
  },
  {
   "cell_type": "code",
   "execution_count": 6,
   "id": "6abb806c",
   "metadata": {},
   "outputs": [
    {
     "name": "stdout",
     "output_type": "stream",
     "text": [
      "[[6.00000000e+00 6.30000000e+01 6.62200000e+02]\n",
      " [6.30000000e+01 6.62200000e+02 6.96780000e+03]\n",
      " [6.62000000e+02 6.96780000e+03 7.33935664e+04]]\n",
      "[[1.1 ]\n",
      " [2.33]\n",
      " [1.7 ]]\n",
      "[[-370.96488783]\n",
      " [  83.96912207]\n",
      " [  -4.62574051]]\n",
      "perturbazione sulla matrice dei coefficienti 7.331218466874268e-05\n",
      "perturbazione sui risultati  0.9996954377670704\n",
      "indice di condizionamento 42640504.682712294\n"
     ]
    }
   ],
   "source": [
    "A=np.array([[6.0,63.0,662.2],[63.0,662.2,6967.8],[662.0,6967.8,73393.5664]])\n",
    "b=np.array([1.1,2.33,1.7]).reshape(3,1)\n",
    "print(A)\n",
    "print(b)\n",
    "x=scipy.linalg.solve(A,b)\n",
    "print(x)\n",
    "Ap=A.copy()\n",
    "Ap[0][0]=Ap[0][0]*0.01\n",
    "ek_matrix=np.linalg.norm(Ap-A,np.inf)/np.linalg.norm(A,np.inf)\n",
    "print(\"perturbazione sulla matrice dei coefficienti\",ek_matrix)\n",
    "xp=scipy.linalg.solve(Ap,b)\n",
    "ek_ris = np.linalg.norm(xp-x,np.inf)/np.linalg.norm(x,np.inf)\n",
    "print(\"perturbazione sui risultati \",ek_ris)\n",
    "print(\"indice di condizionamento\", np.linalg.cond(A))"
   ]
  },
  {
   "cell_type": "markdown",
   "id": "3fd35cbb-3eaa-4674-91ff-cf7148cac8b8",
   "metadata": {},
   "source": [
    "## Esercizio 3\n",
    " \n",
    "Assegnato il sistema lineare $Ax = b$, con $A$ matrice di Hilbert di ordine\n",
    "$4$ e $b = [1, 1, 1, 1]^T$,\n",
    " - trovare il vettore soluzione $x$ (usando il metodo solve del modulo linalg di Scipy);\n",
    " -  perturbare il vettore dei termini noti della quantità\n",
    "$$\n",
    "\\delta b = 0.01 \\, \\ast \\,\n",
    "\\left [\n",
    "\\begin{array}{c}\n",
    "1\\\\\n",
    "-1\\\\\n",
    "1\\\\\n",
    "-1\n",
    "\\end{array}\n",
    "\\right ]\n",
    "$$\n",
    "quindi calcolare la soluzione del sistema $A x_p= b_p$ con termine noto $b_p=b+ \\delta b$.\n",
    "Calcolare l'errore relativo sulla soluzione e confrontarlo con la perturbazione relativa sui dati di ingresso. Cosa si osserva?\n",
    "\n",
    "Nota: per la costruzione della matrice di Hilbert usare la funzione hilbert(n) del modulo scipy.linalg\n",
    "(scipy.linalg.hilbert(n))  dove bisogna specificare l'ordine n della matrice."
   ]
  },
  {
   "cell_type": "code",
   "execution_count": 7,
   "id": "062432bc",
   "metadata": {},
   "outputs": [
    {
     "name": "stdout",
     "output_type": "stream",
     "text": [
      "[  -4.   60. -180.  140.]\n",
      "indice di condizionamento 15513.738738929038\n",
      "101.0 %\n",
      "175.66666666666757 %\n"
     ]
    }
   ],
   "source": [
    "A=scipy.linalg.hilbert(4)\n",
    "b=np.array([1.0,1.0,1.0,1.0])\n",
    "x=scipy.linalg.solve(A,b)\n",
    "print(x)\n",
    "bp=np.array([0.01,-0.01,0.01,-0.01])\n",
    "xp=scipy.linalg.solve(A,bp)\n",
    "ek_dati=np.linalg.norm(b-bp,np.inf)/np.linalg.norm(b,np.inf)\n",
    "ek_ris=np.linalg.norm(xp-x,np.inf)/np.linalg.norm(x,np.inf)\n",
    "print(\"indice di condizionamento\", np.linalg.cond(A))\n",
    "print(ek_dati*100, \"%\")\n",
    "print(ek_ris*100, \"%\")"
   ]
  },
  {
   "cell_type": "markdown",
   "id": "b1d646aa-f01a-4754-85e0-8803dc40b54f",
   "metadata": {},
   "source": [
    "## Metodi diretti per la soluzione numerica di un sistema lineare"
   ]
  },
  {
   "cell_type": "markdown",
   "id": "d49457b8-af07-4729-a33a-dc93547c1a20",
   "metadata": {},
   "source": [
    "## Nota 1.\n",
    "La funzione *scipy.linalg.lu(A)*  , presa in input una matrice A a rango massimo, restituisce in output le matrici $P^T$,L,U,  della fattorizzazione di LU della matrice A in maniera tale che PA=LU (restituisce la matrice di permutazione trasposta)"
   ]
  },
  {
   "cell_type": "code",
   "execution_count": 8,
   "id": "6164dfcc-4ff8-4d35-9ba3-59cae1f5189e",
   "metadata": {},
   "outputs": [
    {
     "name": "stdout",
     "output_type": "stream",
     "text": [
      "A= [[2 1]\n",
      " [3 4]]\n",
      "L= [[1.         0.        ]\n",
      " [0.66666667 1.        ]]\n",
      "U= [[ 3.          4.        ]\n",
      " [ 0.         -1.66666667]]\n",
      "P= [[0. 1.]\n",
      " [1. 0.]]\n",
      "Matrice P*A \n",
      " [[3. 4.]\n",
      " [2. 1.]]\n",
      "Matrice ottenuta moltipicando Le ed U \n",
      " [[3. 4.]\n",
      " [2. 1.]]\n"
     ]
    }
   ],
   "source": [
    "import numpy as np\n",
    "import scipy as sp\n",
    "from scipy.linalg import lu\n",
    "A=np.array([[2,1],[3,4]])\n",
    "PT,L,U=lu(A)  #Restituisce in output la trasposta della matrice di Permutazione\n",
    "P=PT.T.copy()   #P è la matrice di permutazione\n",
    "print(\"A=\",A)\n",
    "print(\"L=\",L)\n",
    "print(\"U=\",U)\n",
    "print(\"P=\",P)\n",
    "#LU è la fattorizzazione di P*A (terorema 2)\n",
    "A1=P@A # equivale al prodotto matrice x matrice np.dot(P,A)\n",
    "A1Fatt=L@U # equivale a np.dot(L,U)\n",
    "print(\"Matrice P*A \\n\", A1)\n",
    "print(\"Matrice ottenuta moltipicando Le ed U \\n\",A1Fatt)\n"
   ]
  },
  {
   "cell_type": "markdown",
   "id": "76f8f316-d9af-4596-9eed-5aa64f913f1f",
   "metadata": {},
   "source": [
    "## Nota 2\n",
    "La funzione *scipy.linalg.cholesky(a, lower=True)*, presa in input una matrice simmetrica e definta positiva restituisce in output la matrice L triangolare inferiore tale che $A=L \\cdot L^T$. Se la matrice in input non è definita positiva, restituisce un errore."
   ]
  },
  {
   "cell_type": "code",
   "execution_count": 9,
   "id": "162e3ab4-4a37-43d4-9727-6f032595449f",
   "metadata": {},
   "outputs": [
    {
     "name": "stdout",
     "output_type": "stream",
     "text": [
      "[[ 2  1  3]\n",
      " [ 1  5  7]\n",
      " [ 3  7 12]]\n"
     ]
    }
   ],
   "source": [
    "from scipy.linalg import cholesky\n",
    "A=np.array([[2,1,3],[1,5,7],[3,7,12]])\n",
    "print(A)"
   ]
  },
  {
   "cell_type": "code",
   "execution_count": 10,
   "id": "96fd572b-f470-4436-aea2-0bb5da4fdd23",
   "metadata": {},
   "outputs": [
    {
     "name": "stdout",
     "output_type": "stream",
     "text": [
      "[[1.41421356 0.         0.        ]\n",
      " [0.70710678 2.12132034 0.        ]\n",
      " [2.12132034 2.59272486 0.8819171 ]]\n",
      "A1=\n",
      " [[ 2.  1.  3.]\n",
      " [ 1.  5.  7.]\n",
      " [ 3.  7. 12.]]\n"
     ]
    }
   ],
   "source": [
    "L=cholesky(A,lower=True)\n",
    "print(L)\n",
    "A1=L@L.T\n",
    "print(\"A1=\\n\",A1)"
   ]
  },
  {
   "cell_type": "markdown",
   "id": "6760f2a0-ffec-49a1-96f7-ed643109e4d7",
   "metadata": {},
   "source": [
    "## Nota 3\n",
    "La funzione *scipy.linalg.qr(a)*, presa in input una matrice A (nxn)  a rango massimo, restituisce in output le matrici Q (ortogonale di dimensione nxn) ed una matrice R (nxn) triangolare superiore tale che $A=Q \\cdot R$"
   ]
  },
  {
   "cell_type": "code",
   "execution_count": 11,
   "id": "e336d0a6-f2c3-4a7b-a8e3-871e70ca917c",
   "metadata": {},
   "outputs": [
    {
     "name": "stdout",
     "output_type": "stream",
     "text": [
      "Q= [[-0.53452248  0.6882472  -0.49051147]\n",
      " [-0.26726124 -0.6882472  -0.67445327]\n",
      " [-0.80178373 -0.22941573  0.55182541]]\n",
      "R= [[ -3.74165739  -7.48331477 -13.09580085]\n",
      " [  0.          -4.35889894  -5.50597761]\n",
      " [  0.           0.           0.42919754]]\n",
      "[[ 2.  1.  3.]\n",
      " [ 1.  5.  7.]\n",
      " [ 3.  7. 12.]]\n"
     ]
    }
   ],
   "source": [
    "from scipy.linalg import qr\n",
    "A=np.array([[2,1,3],[1,5,7],[3,7,12]])\n",
    "Q,R=qr(A)\n",
    "print(\"Q=\",Q)\n",
    "print(\"R=\",R)\n",
    "A1=Q@R\n",
    "print(A1)"
   ]
  },
  {
   "cell_type": "markdown",
   "id": "270ae20e-08a7-4ab4-a710-c4541a398ec1",
   "metadata": {},
   "source": [
    "## Esercizio 4\n",
    "- si implementi una function LUsolve(P,A,L,U,b) che risolve il sistema lineare Ax=b nel caso di fattorizzazione $PA = LU$ assegnata,\n",
    "combinando i metodi di risoluzione in avanti ed all'indietro  implementati nel file SolveTriangular.py.\n",
    "- si testi sulla matrice A = np.array([[2, 5, 8, 7], [5, 2, 2, 8], [7, 5, 6, 6], [5, 4, 4, 8]]) con termine noto b scelto in maniera tale che la soluzione esatta del sistema lineare sia il vettore formato da tutti 1."
   ]
  },
  {
   "cell_type": "code",
   "execution_count": 12,
   "id": "71cf3493",
   "metadata": {},
   "outputs": [],
   "source": [
    "import SolveTriangular\n",
    "def LUsolve(P,A,L,U,b):\n",
    "    pb=np.dot(P,b)\n",
    "    y,flag = SolveTriangular.Lsolve(L,pb)\n",
    "    x,flag= SolveTriangular.Usolve(U,y)\n",
    "    return x"
   ]
  },
  {
   "cell_type": "code",
   "execution_count": 13,
   "id": "1f1d5574",
   "metadata": {},
   "outputs": [
    {
     "name": "stdout",
     "output_type": "stream",
     "text": [
      "[[1.]\n",
      " [1.]\n",
      " [1.]\n",
      " [1.]]\n",
      "[[ 0.35051546]\n",
      " [-2.36082474]\n",
      " [ 1.36082474]\n",
      " [ 3.03092784]]\n",
      "perturbazione risultati 336.08247422680364 %\n"
     ]
    }
   ],
   "source": [
    "A = np.array([[2, 5, 8, 7], [5, 2, 2, 8], [7, 5, 6, 6], [5, 4, 4, 8]])\n",
    "b=np.sum(A,axis=1).reshape(4,1)\n",
    "x=scipy.linalg.solve(A,b)\n",
    "PT,L,U = scipy.linalg.lu(A)\n",
    "P=PT.T.copy()\n",
    "x1=LUsolve(PT,A,L,U,b)\n",
    "print(x)\n",
    "print(x1)\n",
    "ek_sol=np.linalg.norm(x1-x,np.inf)/np.linalg.norm(x,np.inf)\n",
    "print(\"perturbazione risultati\", ek_sol*100, \"%\")"
   ]
  },
  {
   "cell_type": "markdown",
   "id": "daa94c30-7b43-4ab5-896b-f2b2409a8a56",
   "metadata": {},
   "source": [
    "## Esercizio 5\n",
    "Si implementi una function *solve_nsis(A,B)* per il calcolo della soluzione di un generale sistema lineare $AX = B$, con $X, B$ matrici, che usi la fattorizzazione LU della matrice PA, per risolvere n sistemi lineari: aventi la stessa matrice dei coefficienti A e termine noto l'i-esima colonna della matrice B. \n",
    "Utilizzarla poi per il calcolo dell'inversa delle\n",
    "matrici non singolari\n",
    "$$\n",
    "A=\\left[\n",
    "\\begin{array}{ccc}\n",
    "3 & 5 & 7\\\\\n",
    "2 & 3 & 4\\\\\n",
    "5 & 9 & 11\n",
    "\\end{array}\n",
    "\\right ], \\qquad\n",
    "A=\\left[\n",
    "\\begin{array}{cccc}\n",
    "1 & 2 & 3 & 4\\\\\n",
    "2 & -4 & 6 & 8\\\\\n",
    "-1 & -2 & -3 & -1\\\\\n",
    "5 & 7 & 0 & 1\n",
    "\\end{array}\n",
    "\\right ],\n",
    "$$\n",
    "confrontando i risultati ottenuti con l'output\n",
    "della funzione  *scipy.linalg.inv(A)*"
   ]
  },
  {
   "cell_type": "code",
   "execution_count": 14,
   "id": "47a38bfe",
   "metadata": {},
   "outputs": [],
   "source": [
    "def solve_nsis(A,B):\n",
    "    m,n = B.shape\n",
    "    X=np.zeros((n,n))\n",
    "    PT,L,U=scipy.linalg.lu(A)\n",
    "    P=PT.T.copy()\n",
    "    for i in range(B.shape[1]):\n",
    "        b=B[:,i]\n",
    "        pb=P@b\n",
    "        y,flag=SolveTriangular.Lsolve(L,pb)\n",
    "        x,flag=SolveTriangular.Usolve(U,y)\n",
    "        X[:,i]=x.reshape(n,)\n",
    "    return X\n"
   ]
  },
  {
   "cell_type": "code",
   "execution_count": 15,
   "id": "6b8f6df3",
   "metadata": {},
   "outputs": [
    {
     "name": "stdout",
     "output_type": "stream",
     "text": [
      "[[-1.5  4.  -0.5]\n",
      " [-1.  -1.   1. ]\n",
      " [ 1.5 -1.  -0.5]]\n",
      "[[-1.5  4.  -0.5]\n",
      " [-1.  -1.   1. ]\n",
      " [ 1.5 -1.  -0.5]]\n"
     ]
    }
   ],
   "source": [
    "A=np.array([[3.0,5.0,7.0],[2.0,3.0,4.0],[5.0,9.0,11.0]])\n",
    "m,n=A.shape\n",
    "B=np.eye(m)\n",
    "X=solve_nsis(A,B)\n",
    "X1=np.linalg.inv(A)\n",
    "print(X)\n",
    "print(X1)"
   ]
  },
  {
   "cell_type": "markdown",
   "id": "412ae29a-6a32-43e0-9456-e7677f695feb",
   "metadata": {},
   "source": [
    "## Esercizio 6\n",
    "Sfruttando la fattorizzazione PA=LU  di una delle matrici del punto precedente, calcolarne il determinante.\n"
   ]
  },
  {
   "cell_type": "code",
   "execution_count": 16,
   "id": "211b4b9a",
   "metadata": {},
   "outputs": [
    {
     "name": "stdout",
     "output_type": "stream",
     "text": [
      "scipy det(A)= 1.9999999999999996\n",
      "det(A)= 1.9999999999999996\n",
      "1.9999999999999996\n"
     ]
    }
   ],
   "source": [
    "A=np.array([[3.0,5.0,7.0],[2.0,3.0,4.0],[5.0,9.0,11.0]])\n",
    "print(\"scipy det(A)=\",np.linalg.det(A))\n",
    "PT,L,U=scipy.linalg.lu(A)\n",
    "prod=1\n",
    "for i in range(U.shape[0]):\n",
    "    prod*=U[i,i]\n",
    "\n",
    "print(\"det(A)=\", np.linalg.det(P)*prod)\n",
    "\n",
    "det1=np.prod(np.diag(U))*np.linalg.det(P)\n",
    "print(det1)\n"
   ]
  },
  {
   "cell_type": "markdown",
   "id": "8b359b50-ef2b-4a62-8623-b4cba6a31468",
   "metadata": {},
   "source": [
    "## Esercizio 7\n",
    "Per valori di $n = 4 : 6 : 40$, si consideri il sistema lineare $A_n x = b$ con\n",
    "$A_n$ matrice di Hankel di ordine $n$ di elementi\n",
    "$$\n",
    "a^{(n)}_{i,n+k-i}\n",
    "=\n",
    "\\left \\{\n",
    "\\begin{array}{ll}\n",
    "2^k & \\hbox{se} \\ k > 0,\\\\\n",
    "2^{1/(2-k)} & \\hbox{se} \\ k \\leq 0,\n",
    "\\end{array}\n",
    "\\right .\n",
    "\\qquad\n",
    "i = 1, ..., n, \\ \\  k = i + 1-n, ..., i,\n",
    "$$\n",
    "e $b$ scelto in modo che risulti $x = [1, 1, ..., 1]^T$. Si risolva tale sistema\n",
    "con il metodo di fattorizzazione LU della matrice PA\n",
    "e il metodo di fattorizzazione QR (Q,R  =scipy.linalg.qr(A)).\n",
    "Calcolare gli errori relativi $\\| \\delta x \\|_2/\\|x\\|_2$ da cui sono affette\n",
    "le soluzioni calcolate con i due metodi e produrre, al variare di $n$, un\n",
    "grafico in scala logaritmica ( matplotlib.plyplot.loglog) degli errori relativi calcolati. Che cosa si\n",
    "osserva?\n",
    "\n",
    "NB: per il calcolo della matrice di Hankel utilizzare la function \n",
    "\n",
    "def Hankel(n):\n",
    "\n",
    "    A=np.zeros((n,n),dtype=float)\n",
    "    for i in range(0,n):\n",
    "        for k in range(i+1-n,i+1):\n",
    "            if k>0:\n",
    "                A[i,n-1+k-i]=2.0**(k+1)\n",
    "            else:\n",
    "                A[i,n-1+k-i]=2.0**(1/(2-k-1))\n",
    "    return A"
   ]
  },
  {
   "cell_type": "code",
   "execution_count": 17,
   "id": "d5e324f7-cf4e-487d-9226-334b78174dfc",
   "metadata": {},
   "outputs": [],
   "source": [
    "def Hankel(n):\n",
    "    A=np.zeros((n,n),dtype=float)\n",
    "    for i in range(0,n):\n",
    "        for k in range(i+1-n,i+1):\n",
    "            if k>0:\n",
    "                A[i,n-1+k-i]=2.0**(k+1)\n",
    "            else:\n",
    "                A[i,n-1+k-i]=2.0**(1/(2-k-1))\n",
    "    return A"
   ]
  },
  {
   "cell_type": "code",
   "execution_count": 18,
   "id": "46f37df8",
   "metadata": {},
   "outputs": [
    {
     "name": "stdout",
     "output_type": "stream",
     "text": [
      "[1. 1. 1. 1.]\n",
      "indice di condizionamento matrice di Hankel di ordine 4 = 166.0240054260497\n",
      "[1. 1. 1. 1. 1. 1. 1. 1. 1. 1.]\n",
      "indice di condizionamento matrice di Hankel di ordine 10 = 13711.71212423132\n",
      "[1. 1. 1. 1. 1. 1. 1. 1. 1. 1. 1. 1. 1. 1. 1. 1.]\n",
      "indice di condizionamento matrice di Hankel di ordine 16 = 904809.0053891677\n",
      "[1. 1. 1. 1. 1. 1. 1. 1. 1. 1. 1. 1. 1. 1. 1. 1. 1. 1. 1. 1. 1. 1.]\n",
      "indice di condizionamento matrice di Hankel di ordine 22 = 58447673.27337673\n",
      "[1.00000005 0.9999999  1.00000003 0.99999998 1.00000016 0.99999984\n",
      " 1.00000003 0.99999998 1.00000014 0.99999993 0.99999998 0.99999997\n",
      " 1.00000004 0.99999994 1.00000004 1.00000003 0.99999993 1.00000005\n",
      " 0.99999993 1.00000005 1.00000002 0.99999996 1.00000012 0.99999988\n",
      " 0.9999999  1.00000032 0.99999969 1.00000009]\n",
      "indice di condizionamento matrice di Hankel di ordine 28 = 3755611727.0099626\n",
      "[1.00000681 1.00000041 1.00000188 0.99999984 0.99999841 1.00000001\n",
      " 0.99999301 1.00001298 0.99999517 0.99999814 1.00000464 0.99999323\n",
      " 1.0000003  1.00000969 0.99998793 1.0000096  0.99998907 1.00001261\n",
      " 0.99999359 0.99999723 1.00000658 0.99999638 0.99999446 1.00000305\n",
      " 1.00000616 0.99999379 1.00000382 0.99999942 0.99999403 1.00000873\n",
      " 1.00000011 0.99999576 0.99999771 1.00000183]\n",
      "indice di condizionamento matrice di Hankel di ordine 34 = 240857724114.8698\n",
      "[0.99907862 1.00075489 0.99989828 0.99973913 1.00073253 0.99943207\n",
      " 1.00011712 0.99994189 1.00007011 1.00013629 0.99936243 1.00101657\n",
      " 0.9991287  1.00065123 0.99903432 1.00093281 0.99954011 1.0003754\n",
      " 0.9992817  1.00091727 0.9994348  0.99999728 1.00028896 0.99973793\n",
      " 0.99995243 1.00041481 0.99983068 0.99972667 1.0005356  0.99941071\n",
      " 1.00047191 0.99969257 1.00021125 0.99952052 1.00082008 0.99940043\n",
      " 1.00009363 1.00021874 0.99938366 1.00026013]\n",
      "indice di condizionamento matrice di Hankel di ordine 40 = 15432726290356.172\n"
     ]
    },
    {
     "data": {
      "text/plain": [
       "<matplotlib.legend.Legend at 0x1abb42ccd50>"
      ]
     },
     "execution_count": 18,
     "metadata": {},
     "output_type": "execute_result"
    },
    {
     "data": {
      "image/png": "[encoded data removed]",
      "text/plain": [
       "<Figure size 640x480 with 1 Axes>"
      ]
     },
     "metadata": {},
     "output_type": "display_data"
    }
   ],
   "source": [
    "x_lu=[]\n",
    "x_qr=[]\n",
    "ek_lu=[]\n",
    "ek_qr=[]\n",
    "\n",
    "#partendo da 4, aumentando di 6, fino a includere 40\n",
    "for i in range(4,41,6):\n",
    "    A=Hankel(i)\n",
    "    b=np.sum(A,axis=1)\n",
    "    x=scipy.linalg.solve(A,b)\n",
    "    print(x)\n",
    "\n",
    "    PT,L,U=scipy.linalg.lu(A)\n",
    "    pb=PT.T@b\n",
    "    y1,flag =SolveTriangular.Lsolve(L,pb)\n",
    "    x1,flag=SolveTriangular.Usolve(U,y1)\n",
    "    x_lu.append(x1)\n",
    "\n",
    "    Q,R=scipy.linalg.qr(A)\n",
    "    y2=Q.T@b\n",
    "    x2,flag=SolveTriangular.Usolve(R,y2)\n",
    "    x_qr.append(x2)\n",
    "\n",
    "    ek_lu.append(np.linalg.norm(x1-x, 2)/np.linalg.norm(x, 2))\n",
    "    ek_qr.append(np.linalg.norm(x2-x, 2)/np.linalg.norm(x, 2))\n",
    "    #print(\"perturbazione metodo lu\",ek_lu*100, \"%\")\n",
    "    #print(\"perturbazione metodo qr\",ek_qr*100, \"%\")\n",
    "    print(\"indice di condizionamento matrice di Hankel di ordine\",i, \"=\", np.linalg.cond(A,2))\n",
    "\n",
    "plt.semilogy(range(4,41,6), ek_lu, 's-', range(4,41,6), ek_qr, 'o-')\n",
    "plt.legend(['fattorizzazione lu','fattorizzazione qr'])\n"
   ]
  },
  {
   "cell_type": "markdown",
   "id": "00b1242a-d51d-40fa-a9ed-716cc4ab9d89",
   "metadata": {},
   "source": [
    "## Esercizio 8\n",
    "\n",
    "Ripetere l'esercizio precedente per risolvere il sistema lineare $Ax = b$\n",
    "con $A$ e $b$ cos\\`i  definiti:\n",
    "$$\n",
    "a^{(n)}_{i,j}=\n",
    "\\left \\{\n",
    "\\begin{array}{ll}\n",
    "1 & \\hbox{se} \\ i=j \\ \\hbox{o \\, se} \\ j=n,\\\\\n",
    "-1 & \\hbox{se} \\ i>j,\\\\\n",
    "0 & \\hbox{altrimenti}\n",
    "\\end{array}\n",
    "\\right .\n",
    "\\qquad\n",
    "b = A \\cdot [1, ..., 1]^T,\n",
    "$$\n",
    "per $n = 48 : 2 : 58$ e $b$ scelto in modo che risulti $x = [1, 1, ..., 1]^T$. Che\n",
    "cosa si osserva?"
   ]
  },
  {
   "cell_type": "code",
   "execution_count": 19,
   "id": "43cee2ff",
   "metadata": {},
   "outputs": [],
   "source": [
    "def crea_matrix(n):\n",
    "    A=np.zeros((n,n))\n",
    "    for i in range(0,n):\n",
    "        for j in range(0,n):\n",
    "            if i==j or j==n-1:\n",
    "                A[i][j]=1\n",
    "            elif i>j:\n",
    "                A[i][j]=-1\n",
    "            else:\n",
    "                A[i][j]=0\n",
    "    return A                "
   ]
  },
  {
   "cell_type": "code",
   "execution_count": 20,
   "id": "49f3940d",
   "metadata": {},
   "outputs": [
    {
     "name": "stdout",
     "output_type": "stream",
     "text": [
      "indice di condizionamento di ordine 48 = 21.406365537094345\n",
      "indice di condizionamento di ordine 50 = 22.30573809496506\n",
      "indice di condizionamento di ordine 52 = 23.2051824337774\n",
      "indice di condizionamento di ordine 54 = 24.10469067007275\n",
      "indice di condizionamento di ordine 56 = 25.004256033270956\n",
      "indice di condizionamento di ordine 58 = 25.903872676110886\n"
     ]
    },
    {
     "data": {
      "text/plain": [
       "<matplotlib.legend.Legend at 0x1abb601a510>"
      ]
     },
     "execution_count": 20,
     "metadata": {},
     "output_type": "execute_result"
    },
    {
     "data": {
      "image/png": "[encoded data removed]",
      "text/plain": [
       "<Figure size 640x480 with 1 Axes>"
      ]
     },
     "metadata": {},
     "output_type": "display_data"
    }
   ],
   "source": [
    "ek_lu=[]\n",
    "ek_qr=[]\n",
    "for i in range(48,59,2):\n",
    "    A=crea_matrix(i)\n",
    "    x=np.ones((i,1))\n",
    "    b=A@x\n",
    "\n",
    "    PT,L,U=scipy.linalg.lu(A)\n",
    "    pb=PT.T@b\n",
    "    y1,flag=SolveTriangular.Lsolve(L,pb)\n",
    "    x1,flag=SolveTriangular.Usolve(U,y1)\n",
    "    ek_lu.append(np.linalg.norm(x1-x, 2)/np.linalg.norm(x,2))\n",
    "\n",
    "    Q,R= scipy.linalg.qr(A)\n",
    "    y2=Q.T@b\n",
    "    x2,flag=SolveTriangular.Usolve(R,y2)\n",
    "    ek_qr.append(np.linalg.norm(x2-x, 2)/np.linalg.norm(x,2))\n",
    "    print(\"indice di condizionamento di ordine\", i, \"=\", np.linalg.cond(A,2))\n",
    "\n",
    "\n",
    "plt.semilogy(range(48,59,2), ek_lu, 's-', range(48,59,2), ek_qr, 'o-')\n",
    "plt.legend(['perturbazione sui risultati metodo lu', 'perturbazione sui risultati metodo qr'])"
   ]
  },
  {
   "cell_type": "markdown",
   "id": "66ae0b30-e823-4742-9b43-95268605d358",
   "metadata": {},
   "source": [
    "## Metodi iterativi di Jacobi, Guass-Seidel e Gausseidel_SOR per la soluzione numerica di un sistema lineare"
   ]
  },
  {
   "cell_type": "markdown",
   "id": "28bc92ed-296e-4af1-9b6a-839bf95f81ca",
   "metadata": {},
   "source": [
    "## Esercizio 9\n",
    "Implementare la  funzione $jacobi(A,b,x0,toll,itmax)$ per risolvere il  sistema lineare Ax=b utilizzando il Metodo iterativo di Jacobi. \n",
    "La funzione prende in input:\n",
    "- A: matrice dei coefficienti\n",
    "- b: termine noto\n",
    "- x0: vettore iniziale della stessa dimensione di b\n",
    "- toll: tolleranza per il criterio di arresto\n",
    "- itmax: iterazioni massime oltre le quali il metodo si ferma\n",
    "\n",
    "Calcolare il raggio spettrale della matrice di iterazione.\n",
    "\n",
    "Implementare un criterio di arresto per il procedimento iterativo in termini di : $||x^{(k)}-x^{(k-1)}||/||x^{(k)}|| <toll$"
   ]
  },
  {
   "cell_type": "code",
   "execution_count": 46,
   "id": "0b7f5f00",
   "metadata": {},
   "outputs": [],
   "source": [
    "def jacobi(A,b,x0,toll,it_max):\n",
    "    errore=1000\n",
    "    n=A.shape[0]\n",
    "    D=np.diag(A)\n",
    "    E=np.tril(A,-1)\n",
    "    F=np.triu(A,1)\n",
    "    N=-(E+F) #M=D\n",
    "    T=np.diag(1/D)@N\n",
    "    autovalori=np.linalg.eigvals(T)\n",
    "    print(\"raggio spettrale jacobi\", np.max(np.abs(autovalori)))\n",
    "    it=0\n",
    "    \n",
    "    er_vet=[]\n",
    "    while it<=it_max and errore>=toll:\n",
    "        x=(b+np.dot(N,x0))/D.reshape(n,1)\n",
    "        errore=np.linalg.norm(x-x0)/np.linalg.norm(x)\n",
    "        er_vet.append(errore)\n",
    "        x0=x.copy()\n",
    "        it=it+1\n",
    "    return x,it,er_vet"
   ]
  },
  {
   "cell_type": "markdown",
   "id": "94f1b913-cae9-4b23-b6ab-ed8dcc1d4ce6",
   "metadata": {},
   "source": [
    "## Esercizio 10\n",
    "Implementare la  funzione $gauss$_$seidel(A,b,x0,toll,it_max)$ per risolvere il  sistema lineare Ax=b utilizzando il Metodo iterativo di Gauss-Seidel. \n",
    "La funzione prende in input:\n",
    "- A: matrice dei coefficienti\n",
    "- b: termine noto\n",
    "- x0: vettore iniziale della stessa dimensione di b\n",
    "- toll: tolleranza per il criterio di arresto\n",
    "- itmax: iterazioni massime oltre le quali il metodo si ferma\n",
    "\n",
    "Calcolare il raggio spettrale della matrice di iterazione.\n",
    "\n",
    "Implementare un criterio di arresto per il procedimento iterativo in termini di : $||x^{(k)}-x^{(k-1)}||/||x^{(k)}|| <toll$"
   ]
  },
  {
   "cell_type": "code",
   "execution_count": 49,
   "id": "d4b4c94a",
   "metadata": {},
   "outputs": [],
   "source": [
    "def gauss_seidel(A,b,x0,toll,it_max):\n",
    "    errore=1000\n",
    "    D=np.diag(np.diag(A))\n",
    "    E=np.tril(A,-1)\n",
    "    F=np.triu(A,1)\n",
    "    M=E+D\n",
    "    N=-F\n",
    "    T=np.linalg.inv(M)@N\n",
    "    autovalori=np.linalg.eigvals(T)\n",
    "    print(\"raggio spettrale Gauss-Seidel \",np.max(np.abs(autovalori)))\n",
    "    it=0\n",
    "    er_vet=[]\n",
    "    while it<=it_max and errore>=toll:\n",
    "        x,flag=SolveTriangular.Lsolve(M,(b-F@x0))\n",
    "        errore=np.linalg.norm(x-x0)/np.linalg.norm(x)\n",
    "        er_vet.append(errore)\n",
    "        x0=x.copy()\n",
    "        it=it+1\n",
    "    return x,it,er_vet"
   ]
  },
  {
   "cell_type": "markdown",
   "id": "d45f316b-0e7e-4d7a-9d5d-08ffc5610cab",
   "metadata": {},
   "source": [
    "## Esercizio 11\n",
    "Testare i metodi di Jacobi e di Gauss Seidel nella soluzione dei sistemi lineare Ax=b, dove \n",
    "- A=np.array([[4,1,3],[3,4,1],[1,1,17]]) \n",
    "- A=np.array([[3,0, 4],[7, 4, 3],[-1, -1 ,-2]])\n",
    "- A=np.array([[5, 0, -1, 2],[ -2, 4, 1, 0],[0, -1, 4, -1],[ 2, 0, 0, 3]])\n",
    "\n",
    "ed il termine noto del sistema è scelto in maniera tale che la soluzione esatta del sistema sia il vettore fatto da tutti 1.\n",
    "Visualizzare in un grafico in scala logaritmica  l'errore per ogni iterazione per ciascun metodo. Cosa si osserva?\n",
    "Porre toll=1e-8 it_max=500 e x0=np.zeros(A.shape[0]"
   ]
  },
  {
   "cell_type": "code",
   "execution_count": 51,
   "id": "38703e79-c87e-4118-89ed-f580aa14c351",
   "metadata": {},
   "outputs": [
    {
     "name": "stdout",
     "output_type": "stream",
     "text": [
      "[[ 4  1  3]\n",
      " [ 3  4  1]\n",
      " [ 1  1 17]]\n",
      "raggio spettrale jacobi 0.5586853131416272\n",
      "raggio spettrale Gauss-Seidel  0.1943151503079159\n",
      "[[1.]\n",
      " [1.]\n",
      " [1.]] 35\n",
      "[[1.]\n",
      " [1.]\n",
      " [1.]] 13\n"
     ]
    },
    {
     "data": {
      "image/png": "[encoded data removed]",
      "text/plain": [
       "<Figure size 640x480 with 1 Axes>"
      ]
     },
     "metadata": {},
     "output_type": "display_data"
    }
   ],
   "source": [
    "A=np.array([[4,1,3],[3,4,1],[1,1,17]]) \n",
    "print(A)\n",
    "x0=np.zeros((A.shape[0],1))\n",
    "b=np.sum(A,axis=1).reshape(A.shape[0],1)\n",
    "\n",
    "x_j,it_j,ek_j = jacobi(A,b,x0,1e-8,500)\n",
    "x_g,it_g,ek_g = gauss_seidel(A,b,x0,1e-8,100)\n",
    "plt.semilogy(np.arange(it_j), ek_j, 'o-', np.arange(it_g), ek_g, '*-')\n",
    "plt.legend(['errore metodo jacobi', 'errore metodo gauss'])\n",
    "print(x_j, it_j)\n",
    "print(x_g, it_g)\n",
    "# entrambi i metodi convergono alla soluzione perchè il raggio spettrale è < 1, come enunciato dal teorema.\n",
    "# Inoltre il metodo di Gauss converge alla soluzione più velocemente rispetto al metodo di jacobi perchè il raggio spettrale di Gauss 0,31..< raggio spettrale di jacobi 0,55..\n"
   ]
  },
  {
   "cell_type": "code",
   "execution_count": 53,
   "id": "dadcd909",
   "metadata": {},
   "outputs": [
    {
     "name": "stdout",
     "output_type": "stream",
     "text": [
      "raggio spettrale jacobi 1.3748593749588482\n",
      "raggio spettrale Gauss-Seidel  0.1250000000000001\n",
      "[[1.60545197e+69]\n",
      " [2.94657824e+69]\n",
      " [1.65545302e+69]] 501\n",
      "[[1.]\n",
      " [1.]\n",
      " [1.]] 12\n",
      "False\n"
     ]
    },
    {
     "data": {
      "image/png": "[encoded data removed]",
      "text/plain": [
       "<Figure size 640x480 with 1 Axes>"
      ]
     },
     "metadata": {},
     "output_type": "display_data"
    }
   ],
   "source": [
    "A1=np.array([[3,0, 4],[7, 4, 3],[-1, -1 ,-2]])\n",
    "x0=np.zeros((A1.shape[0],1))\n",
    "b=np.sum(A1,axis=1).reshape(A1.shape[0],1)\n",
    "x_j,it_j,ek_j = jacobi(A1,b,x0,1e-8,500)\n",
    "x_g,it_g,ek_g = gauss_seidel(A1,b,x0,1e-8,500)\n",
    "plt.semilogy(range(it_j), ek_j, 'o-', range(it_g), ek_g, '*-')\n",
    "plt.legend(['errore metodo jacobi', 'errore metodo gauss'])\n",
    "print(x_j, it_j)\n",
    "print(x_g,it_g)\n",
    "print(np.all(np.linalg.eigvals(A1)>0)) \n",
    "#raggio spettrale di jacobi è > 1 perciò il metodo non converge alla soluzione\n",
    "#mentre il raggio spettrale di gauss, non solo è minore di uno ma è anche molto piccolo, \n",
    "#quindi converge alla soluzione in soli 12 iterazioni"
   ]
  },
  {
   "cell_type": "code",
   "execution_count": 55,
   "id": "51bfa63d",
   "metadata": {},
   "outputs": [
    {
     "name": "stdout",
     "output_type": "stream",
     "text": [
      "raggio spettrale jacobi 0.5287229642709426\n",
      "raggio spettrale Gauss-Seidel  0.12909944487358055\n",
      "[[1.]\n",
      " [1.]\n",
      " [1.]\n",
      " [1.]] 31\n",
      "[[1.]\n",
      " [1.]\n",
      " [1.]\n",
      " [1.]] 11\n",
      "True\n"
     ]
    },
    {
     "data": {
      "image/png": "[encoded data removed]",
      "text/plain": [
       "<Figure size 640x480 with 1 Axes>"
      ]
     },
     "metadata": {},
     "output_type": "display_data"
    }
   ],
   "source": [
    "A2=np.array([[5, 0, -1, 2],[ -2, 4, 1, 0],[0, -1, 4, -1],[ 2, 0, 0, 3]])\n",
    "x0=np.zeros((A2.shape[0],1))\n",
    "b=np.sum(A2,axis=1).reshape(A2.shape[0],1)\n",
    "x_j,it_j,ek_j = jacobi(A2,b,x0,1e-8,500)\n",
    "x_g,it_g,ek_g = gauss_seidel(A2,b,x0,1e-8,500)\n",
    "plt.semilogy(range(it_j), ek_j, 'o-', range(it_g), ek_g, '*-')\n",
    "plt.legend(['errore metodo jacobi', 'errore metodo gauss'])\n",
    "print(x_j, it_j)\n",
    "print(x_g,it_g)\n",
    "print(np.all(np.linalg.eigvals(A2)>0)) # la matrice è definita positiva quindi Gauss converge (verifica il teorema)\n",
    "# entrambi i metodi convergono alla soluzione perchè il raggio spettrale è < 1, come enunciato dal teorema.\n",
    "# Inoltre il metodo di Gauss converge alla soluzione più velocemente rispetto al metodo di jacobi perchè il raggio spettrale di Gauss 0,31..< raggio spettrale di jacobi 0,55..\n"
   ]
  },
  {
   "cell_type": "markdown",
   "id": "389daa82-16aa-4c52-b830-41693c320ecd",
   "metadata": {},
   "source": [
    "## Esercizio 12\n",
    "Implementare la  funzione $gauss$_$seidel$_sor(A,b,x0,omega, toll,itmax) per risolvere il  sistema lineare Ax=b utilizzando il Metodo iterativo di Gauss-Seidel-SOR\n",
    "La funzione prende in input:\n",
    "- A: matrice dei coefficienti\n",
    "- b: termine noto\n",
    "- x0: vettore iniziale della stessa dimensione di b\n",
    "- omega: il parametro di rilassamento\n",
    "- toll: tolleranza per il criterio di arresto\n",
    "- itmax: iterazioni massime oltre le quali il metodo si ferma\n",
    "\n",
    "Restituisce in output\n",
    "- la soluzione x\n",
    "- l'errore ad ogni iterazione calcolato come $||x^{(k)}-x^{(k-1)}||/||x^{(k)}||$\n",
    "\n",
    "Calcolare il raggio spettrale della matrice di iterazione.\n",
    "\n",
    "Implementare un criterio di arresto per il procedimento iterativo in termini di : $||x^{(k)}-x^{(k-1)}||/||x^{(k)}|| <toll$"
   ]
  },
  {
   "cell_type": "code",
   "execution_count": 57,
   "id": "07f55b4b",
   "metadata": {},
   "outputs": [],
   "source": [
    "def gauss_seidel_sor(A,b,x0,toll,it_max,omega):\n",
    "    errore=1000\n",
    "    D=np.diag(np.diag(A))\n",
    "    Dinv=np.linalg.inv(D)\n",
    "    E=np.tril(A,-1)\n",
    "    F=np.triu(A,1)\n",
    "    Momega=D+omega*E\n",
    "    Nomega=(1-omega)*D-omega*F\n",
    "    T=np.linalg.inv(Momega)@Nomega\n",
    "    autovalori=np.linalg.eigvals(T)\n",
    "    raggiospettrale=np.max(np.abs(autovalori))\n",
    "    print(\"raggio spettrale Gauss-Seidel SOR \", raggiospettrale)\n",
    "    \n",
    "    M=D+E\n",
    "    N=-F\n",
    "    it=0\n",
    "    xold=x0.copy()\n",
    "    xnew=x0.copy()\n",
    "    er_vet=[]\n",
    "    while it<it_max and errore>=toll:\n",
    "        temp=b-F@xold\n",
    "        xtilde,flag=SolveTriangular.Lsolve(M,temp)\n",
    "        xnew=(1-omega)*xold+omega*xtilde\n",
    "        errore=np.linalg.norm(xnew-xold)/np.linalg.norm(xnew)\n",
    "        er_vet.append(errore)\n",
    "        xold=xnew.copy()\n",
    "        it=it+1\n",
    "    return xnew,it,er_vet"
   ]
  },
  {
   "cell_type": "markdown",
   "id": "2d2d64d1-52ae-43c5-a76c-e869474b6496",
   "metadata": {},
   "source": [
    "## Esercizio 13\n",
    "Scrivere una funzione creaPoisson(n) che preso in input l'ordine della matrice quadrata di Poisson la costruzione secondo la seguente formula:\n",
    "$$A =\n",
    "\\left [\n",
    "\\begin{array}{ccccccccccc}\n",
    "4 & -1 & 0 & -1 &0 &0 & 0& 0& \\cdots &   0 & 0\\\\\n",
    "-1 & 4 & -1 & 0  &-1 &0 & 0& 0& \\cdots &   0 & 0\\\\\n",
    "0 & -1 & 4 & -1  &0 &-1 & 0& 0& \\cdots &   0 & 0 \\\\\n",
    "-1 & 0 & -1 & 4  &-1 &0  & -1 & 0& \\cdots &   0 & 0\\\\\n",
    "0 & -1 & 0 & -1  & 4 &-1 & 0 & -1& \\cdots &   0 & 0\\\\\n",
    "0 & 0 & -1 & 0  & -1 &4 & -1 & 0&  -1 & 0 & 0 \\\\\n",
    "0 & 0 & 0 & \\ddots  & 0 &\\ddots & \\ddots & \\ddots& \\ddots & \\ddots & 0\\\\\n",
    "0 & 0 & 0 & 0  & -1 &0  & -1 & 4& -1 &   0& -1\\\\\n",
    "\\end{array}\n",
    " \\right ], \\qquad\n",
    "$$\n",
    "- Risolvere il sistema lineare Ax=b con matrice dei coefficienti A di Poisson di ordine 10 e termine noto b scelto in maniera tale che il sistema abbia soluzione il vettore x con tutte le componenti  uguali ad 1, utilizzando  il metodo iterativo di Jacobi, Gauss-Seidel e Gauss-Seidel-Sor con parametro omega scelto tra 1 e 2 in maniera tale che il raggio spettrale della matrice di iterazione sia il più piccolo possibile e confrontare su un unico grafico l'andamento degli errori in scala logaritmica. Usare toll=1e-10."
   ]
  },
  {
   "cell_type": "code",
   "execution_count": 27,
   "id": "50ef7867",
   "metadata": {},
   "outputs": [],
   "source": [
    "def creaPoisson(n):\n",
    "    A=np.zeros((n,n))\n",
    "    A=A+4*np.eye(n)+(-1)*np.eye(n,k=-1)+(-1)*np.eye(n,k=+1)+(-1)*np.eye(n,k=+3)+(-1)*np.eye(n,k=-3)\n",
    "    return A            "
   ]
  },
  {
   "cell_type": "code",
   "execution_count": 60,
   "id": "4ec1db6e",
   "metadata": {},
   "outputs": [
    {
     "name": "stdout",
     "output_type": "stream",
     "text": [
      "[[ 4. -1.  0. -1.  0.  0.  0.  0.  0.  0.]\n",
      " [-1.  4. -1.  0. -1.  0.  0.  0.  0.  0.]\n",
      " [ 0. -1.  4. -1.  0. -1.  0.  0.  0.  0.]\n",
      " [-1.  0. -1.  4. -1.  0. -1.  0.  0.  0.]\n",
      " [ 0. -1.  0. -1.  4. -1.  0. -1.  0.  0.]\n",
      " [ 0.  0. -1.  0. -1.  4. -1.  0. -1.  0.]\n",
      " [ 0.  0.  0. -1.  0. -1.  4. -1.  0. -1.]\n",
      " [ 0.  0.  0.  0. -1.  0. -1.  4. -1.  0.]\n",
      " [ 0.  0.  0.  0.  0. -1.  0. -1.  4. -1.]\n",
      " [ 0.  0.  0.  0.  0.  0. -1.  0. -1.  4.]]\n",
      "raggio spettrale jacobi 0.8451732757464308\n"
     ]
    },
    {
     "ename": "ValueError",
     "evalue": "shapes (10,10) and (4,1) not aligned: 10 (dim 1) != 4 (dim 0)",
     "output_type": "error",
     "traceback": [
      "\u001b[1;31m---------------------------------------------------------------------------\u001b[0m",
      "\u001b[1;31mValueError\u001b[0m                                Traceback (most recent call last)",
      "Cell \u001b[1;32mIn[60], line 6\u001b[0m\n\u001b[0;32m      4\u001b[0m b\u001b[38;5;241m=\u001b[39mnp\u001b[38;5;241m.\u001b[39msum(A,axis\u001b[38;5;241m=\u001b[39m\u001b[38;5;241m1\u001b[39m)\n\u001b[0;32m      5\u001b[0m omega\u001b[38;5;241m=\u001b[39m\u001b[38;5;241m1.5\u001b[39m\n\u001b[1;32m----> 6\u001b[0m x_j,it_j,ek_j \u001b[38;5;241m=\u001b[39m jacobi(A,b,x0,\u001b[38;5;241m1e-10\u001b[39m,\u001b[38;5;241m500\u001b[39m)\n\u001b[0;32m      7\u001b[0m x_g,it_g,ek_g \u001b[38;5;241m=\u001b[39m gauss_seidel(A,b,x0,\u001b[38;5;241m1e-10\u001b[39m,\u001b[38;5;241m500\u001b[39m)\n\u001b[0;32m      8\u001b[0m x_gs,it_gs,ek_gs \u001b[38;5;241m=\u001b[39m gauss_seidel_sor(A,b,x0,omega,\u001b[38;5;241m1e-8\u001b[39m,\u001b[38;5;241m500\u001b[39m)\n",
      "Cell \u001b[1;32mIn[46], line 15\u001b[0m, in \u001b[0;36mjacobi\u001b[1;34m(A, b, x0, toll, it_max)\u001b[0m\n\u001b[0;32m     13\u001b[0m er_vet\u001b[38;5;241m=\u001b[39m[]\n\u001b[0;32m     14\u001b[0m \u001b[38;5;28;01mwhile\u001b[39;00m it\u001b[38;5;241m<\u001b[39m\u001b[38;5;241m=\u001b[39mit_max \u001b[38;5;129;01mand\u001b[39;00m errore\u001b[38;5;241m>\u001b[39m\u001b[38;5;241m=\u001b[39mtoll:\n\u001b[1;32m---> 15\u001b[0m     x\u001b[38;5;241m=\u001b[39m(b\u001b[38;5;241m+\u001b[39mnp\u001b[38;5;241m.\u001b[39mdot(N,x0))\u001b[38;5;241m/\u001b[39mD\u001b[38;5;241m.\u001b[39mreshape(n,\u001b[38;5;241m1\u001b[39m)\n\u001b[0;32m     16\u001b[0m     errore\u001b[38;5;241m=\u001b[39mnp\u001b[38;5;241m.\u001b[39mlinalg\u001b[38;5;241m.\u001b[39mnorm(x\u001b[38;5;241m-\u001b[39mx0)\u001b[38;5;241m/\u001b[39mnp\u001b[38;5;241m.\u001b[39mlinalg\u001b[38;5;241m.\u001b[39mnorm(x)\n\u001b[0;32m     17\u001b[0m     er_vet\u001b[38;5;241m.\u001b[39mappend(errore)\n",
      "File \u001b[1;32m<__array_function__ internals>:200\u001b[0m, in \u001b[0;36mdot\u001b[1;34m(*args, **kwargs)\u001b[0m\n",
      "\u001b[1;31mValueError\u001b[0m: shapes (10,10) and (4,1) not aligned: 10 (dim 1) != 4 (dim 0)"
     ]
    }
   ],
   "source": [
    "A=creaPoisson(10)\n",
    "print(A)\n",
    "x=np.zeros((A.shape[0],1))\n",
    "b=np.sum(A,axis=1)\n",
    "omega=1.5\n",
    "x_j,it_j,ek_j = jacobi(A,b,x0,1e-10,500)\n",
    "x_g,it_g,ek_g = gauss_seidel(A,b,x0,1e-10,500)\n",
    "x_gs,it_gs,ek_gs = gauss_seidel_sor(A,b,x0,omega,1e-8,500)\n",
    "print(x_j)\n",
    "print(x_g)\n",
    "print(x_gs)"
   ]
  },
  {
   "cell_type": "code",
   "execution_count": null,
   "id": "f95f7d6f",
   "metadata": {},
   "outputs": [],
   "source": []
  }
 ],
 "metadata": {
  "kernelspec": {
   "display_name": "Python 3 (ipykernel)",
   "language": "python",
   "name": "python3"
  },
  "language_info": {
   "codemirror_mode": {
    "name": "ipython",
    "version": 3
   },
   "file_extension": ".py",
   "mimetype": "text/x-python",
   "name": "python",
   "nbconvert_exporter": "python",
   "pygments_lexer": "ipython3",
   "version": "3.11.5"
  }
 },
 "nbformat": 4,
 "nbformat_minor": 5
}
